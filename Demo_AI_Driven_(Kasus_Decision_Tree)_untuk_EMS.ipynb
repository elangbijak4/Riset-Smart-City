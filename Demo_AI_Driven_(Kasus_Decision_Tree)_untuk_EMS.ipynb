{
  "nbformat": 4,
  "nbformat_minor": 0,
  "metadata": {
    "colab": {
      "provenance": [],
      "authorship_tag": "ABX9TyPFE42mr1A5YeIDdY/554q5",
      "include_colab_link": true
    },
    "kernelspec": {
      "name": "python3",
      "display_name": "Python 3"
    },
    "language_info": {
      "name": "python"
    }
  },
  "cells": [
    {
      "cell_type": "markdown",
      "metadata": {
        "id": "view-in-github",
        "colab_type": "text"
      },
      "source": [
        "<a href=\"https://colab.research.google.com/github/elangbijak4/Riset-Smart-City/blob/main/Demo_AI_Driven_(Kasus_Decision_Tree)_untuk_EMS.ipynb\" target=\"_parent\"><img src=\"https://colab.research.google.com/assets/colab-badge.svg\" alt=\"Open In Colab\"/></a>"
      ]
    },
    {
      "cell_type": "code",
      "execution_count": 3,
      "metadata": {
        "colab": {
          "base_uri": "https://localhost:8080/"
        },
        "id": "UTbeuIM4cWsP",
        "outputId": "c66d1b8a-1da5-43f6-e5e4-288e9cd29dae"
      },
      "outputs": [
        {
          "output_type": "stream",
          "name": "stdout",
          "text": [
            "              precision    recall  f1-score   support\n",
            "\n",
            "     battery       0.63      0.64      0.64       107\n",
            "      engine       0.58      0.56      0.57        93\n",
            "\n",
            "    accuracy                           0.60       200\n",
            "   macro avg       0.60      0.60      0.60       200\n",
            "weighted avg       0.60      0.60      0.60       200\n",
            "\n",
            "Predicted action: engine\n"
          ]
        }
      ],
      "source": [
        "import pandas as pd\n",
        "import numpy as np\n",
        "from sklearn.tree import DecisionTreeClassifier\n",
        "from sklearn.model_selection import train_test_split\n",
        "from sklearn.metrics import classification_report\n",
        "\n",
        "# Simulasi dataset\n",
        "def generate_data(n=1000):\n",
        "    data = []\n",
        "    for _ in range(n):\n",
        "        speed = np.random.randint(0, 100)\n",
        "        slope = np.random.choice(['flat', 'uphill', 'downhill'])\n",
        "        battery = np.random.uniform(0, 1)\n",
        "\n",
        "        # Aturan simulasi optimal action\n",
        "        if slope == 'uphill' and battery < 0.3:\n",
        "            action = 'engine'\n",
        "        elif speed < 40 and battery > 0.5:\n",
        "            action = 'battery'\n",
        "        else:\n",
        "            action = np.random.choice(['battery', 'engine'], p=[0.5, 0.5])\n",
        "\n",
        "        data.append([speed, slope, battery, action])\n",
        "    return pd.DataFrame(data, columns=['speed', 'slope', 'battery', 'action'])\n",
        "\n",
        "df = generate_data()\n",
        "\n",
        "# Encode fitur kategori\n",
        "df_encoded = pd.get_dummies(df, columns=['slope'])\n",
        "\n",
        "# Split data\n",
        "X = df_encoded.drop(columns=['action'])\n",
        "y = df_encoded['action']\n",
        "X_train, X_test, y_train, y_test = train_test_split(X, y, test_size=0.2)\n",
        "\n",
        "# Train decision tree\n",
        "clf = DecisionTreeClassifier()\n",
        "clf.fit(X_train, y_train)\n",
        "\n",
        "# Evaluasi\n",
        "y_pred = clf.predict(X_test)\n",
        "print(classification_report(y_test, y_pred))\n",
        "\n",
        "# Tes input baru\n",
        "test_input = pd.DataFrame([[45, 'uphill', 0.25]], columns=['speed', 'slope', 'battery'])\n",
        "test_input_encoded = pd.get_dummies(test_input).reindex(columns=X.columns, fill_value=0)\n",
        "print(\"Predicted action:\", clf.predict(test_input_encoded)[0])"
      ]
    }
  ]
}