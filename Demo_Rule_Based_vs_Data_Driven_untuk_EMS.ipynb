{
  "nbformat": 4,
  "nbformat_minor": 0,
  "metadata": {
    "colab": {
      "provenance": [],
      "authorship_tag": "ABX9TyPOftS5FSmie4hZf2EadtWR",
      "include_colab_link": true
    },
    "kernelspec": {
      "name": "python3",
      "display_name": "Python 3"
    },
    "language_info": {
      "name": "python"
    }
  },
  "cells": [
    {
      "cell_type": "markdown",
      "metadata": {
        "id": "view-in-github",
        "colab_type": "text"
      },
      "source": [
        "<a href=\"https://colab.research.google.com/github/elangbijak4/Riset-Smart-City/blob/main/Demo_Rule_Based_vs_Data_Driven_untuk_EMS.ipynb\" target=\"_parent\"><img src=\"https://colab.research.google.com/assets/colab-badge.svg\" alt=\"Open In Colab\"/></a>"
      ]
    },
    {
      "cell_type": "code",
      "execution_count": 2,
      "metadata": {
        "colab": {
          "base_uri": "https://localhost:8080/"
        },
        "id": "UTbeuIM4cWsP",
        "outputId": "02d40b3c-5c38-4277-8ba1-7f19f2d60faf"
      },
      "outputs": [
        {
          "output_type": "stream",
          "name": "stdout",
          "text": [
            "Speed: 7 km/h\n",
            "Road slope: flat\n",
            "Battery level: 0.6\n",
            "Engine fuel: 0.7\n",
            "Rule-based decision: Use Battery\n",
            "Adaptive decision: Use Battery\n"
          ]
        }
      ],
      "source": [
        "import random\n",
        "\n",
        "# Simulasi status energi\n",
        "battery_level = 0.6  # 60%\n",
        "engine_fuel = 0.7    # 70%\n",
        "road_slope = random.choice([\"flat\", \"uphill\", \"downhill\"])\n",
        "speed = random.randint(0, 100)  # km/h\n",
        "\n",
        "# Rule-based strategy\n",
        "def rule_based_ems(speed, road_slope, battery_level):\n",
        "    if speed < 40 and battery_level > 0.3:\n",
        "        return \"Use Battery\"\n",
        "    else:\n",
        "        return \"Use Engine\"\n",
        "\n",
        "# Data-driven (adaptive) strategy\n",
        "def adaptive_ems(speed, road_slope, battery_level, engine_fuel):\n",
        "    score_battery = battery_level * (1.0 if road_slope != \"uphill\" else 0.5)\n",
        "    score_engine = engine_fuel * (1.0 if road_slope == \"uphill\" else 0.7)\n",
        "\n",
        "    return \"Use Battery\" if score_battery > score_engine else \"Use Engine\"\n",
        "\n",
        "# Output simulasi\n",
        "print(\"Speed:\", speed, \"km/h\")\n",
        "print(\"Road slope:\", road_slope)\n",
        "print(\"Battery level:\", battery_level)\n",
        "print(\"Engine fuel:\", engine_fuel)\n",
        "print(\"Rule-based decision:\", rule_based_ems(speed, road_slope, battery_level))\n",
        "print(\"Adaptive decision:\", adaptive_ems(speed, road_slope, battery_level, engine_fuel))"
      ]
    }
  ]
}