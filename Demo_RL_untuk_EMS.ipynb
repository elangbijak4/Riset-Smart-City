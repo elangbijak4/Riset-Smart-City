{
  "nbformat": 4,
  "nbformat_minor": 0,
  "metadata": {
    "colab": {
      "provenance": [],
      "authorship_tag": "ABX9TyNskBNNl5Re+v9Bc9Hu47uu",
      "include_colab_link": true
    },
    "kernelspec": {
      "name": "python3",
      "display_name": "Python 3"
    },
    "language_info": {
      "name": "python"
    }
  },
  "cells": [
    {
      "cell_type": "markdown",
      "metadata": {
        "id": "view-in-github",
        "colab_type": "text"
      },
      "source": [
        "<a href=\"https://colab.research.google.com/github/elangbijak4/Riset-Smart-City/blob/main/Demo_RL_untuk_EMS.ipynb\" target=\"_parent\"><img src=\"https://colab.research.google.com/assets/colab-badge.svg\" alt=\"Open In Colab\"/></a>"
      ]
    },
    {
      "cell_type": "code",
      "execution_count": 1,
      "metadata": {
        "colab": {
          "base_uri": "https://localhost:8080/"
        },
        "id": "UTbeuIM4cWsP",
        "outputId": "336c0847-75ef-435f-e39c-2d6f171ae6e7"
      },
      "outputs": [
        {
          "output_type": "stream",
          "name": "stdout",
          "text": [
            "Test state: ('medium', 'uphill', 'medium')\n",
            "Q-values: [4.860935805278154, 1.2285300000000001]\n",
            "Best action: battery\n"
          ]
        }
      ],
      "source": [
        "import numpy as np\n",
        "import random\n",
        "\n",
        "# Diskretisasi variabel state\n",
        "speed_states = ['low', 'medium', 'high']\n",
        "slope_states = ['flat', 'uphill', 'downhill']\n",
        "battery_states = ['low', 'medium', 'high']\n",
        "actions = ['battery', 'engine']\n",
        "\n",
        "# Buat tabel Q kosong\n",
        "Q_table = {}\n",
        "\n",
        "# Inisialisasi Q-table dengan nol\n",
        "for spd in speed_states:\n",
        "    for slp in slope_states:\n",
        "        for batt in battery_states:\n",
        "            Q_table[(spd, slp, batt)] = [0.0, 0.0]  # 0: battery, 1: engine\n",
        "\n",
        "# Parameter Q-learning\n",
        "alpha = 0.1      # learning rate\n",
        "gamma = 0.9      # discount factor\n",
        "epsilon = 0.2    # eksplorasi vs eksploitasi\n",
        "episodes = 1000\n",
        "\n",
        "# Reward function sederhana\n",
        "def get_reward(action, slope, battery_level):\n",
        "    if action == 'battery':\n",
        "        if slope == 'uphill' and battery_level == 'low':\n",
        "            return -10  # terlalu berat\n",
        "        return 5\n",
        "    else:\n",
        "        if slope == 'downhill':\n",
        "            return -2  # boros bahan bakar\n",
        "        return 3\n",
        "\n",
        "# Simulasi training\n",
        "for episode in range(episodes):\n",
        "    # Acak kondisi awal\n",
        "    spd = random.choice(speed_states)\n",
        "    slp = random.choice(slope_states)\n",
        "    batt = random.choice(battery_states)\n",
        "    state = (spd, slp, batt)\n",
        "\n",
        "    # Epsilon-greedy strategy\n",
        "    if random.uniform(0, 1) < epsilon:\n",
        "        action_idx = random.choice([0, 1])  # eksplorasi\n",
        "    else:\n",
        "        action_idx = np.argmax(Q_table[state])  # eksploitasi\n",
        "\n",
        "    action = actions[action_idx]\n",
        "    reward = get_reward(action, slp, batt)\n",
        "\n",
        "    # Tidak ada state berikutnya (one-step), jadi update langsung\n",
        "    Q_table[state][action_idx] = Q_table[state][action_idx] + alpha * (\n",
        "        reward - Q_table[state][action_idx])\n",
        "\n",
        "# 💡 Setelah training, coba tes keputusan agen\n",
        "test_state = ('medium', 'uphill', 'medium')\n",
        "print(\"Test state:\", test_state)\n",
        "print(\"Q-values:\", Q_table[test_state])\n",
        "print(\"Best action:\", actions[np.argmax(Q_table[test_state])])"
      ]
    }
  ]
}